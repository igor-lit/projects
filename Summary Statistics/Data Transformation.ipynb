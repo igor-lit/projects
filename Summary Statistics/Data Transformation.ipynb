{
 "cells": [
  {
   "cell_type": "markdown",
   "id": "dbd5680a",
   "metadata": {},
   "source": [
    "# StartUp Transformation"
   ]
  },
  {
   "cell_type": "markdown",
   "id": "03cd0851",
   "metadata": {},
   "source": [
    "## Preparing Data"
   ]
  },
  {
   "cell_type": "code",
   "execution_count": 3,
   "id": "2e67ea16",
   "metadata": {
    "scrolled": false
   },
   "outputs": [
    {
     "ename": "ModuleNotFoundError",
     "evalue": "No module named 'codecademylib3'",
     "output_type": "error",
     "traceback": [
      "\u001b[0;31m---------------------------------------------------------------------------\u001b[0m",
      "\u001b[0;31mModuleNotFoundError\u001b[0m                       Traceback (most recent call last)",
      "Input \u001b[0;32mIn [3]\u001b[0m, in \u001b[0;36m<cell line: 1>\u001b[0;34m()\u001b[0m\n\u001b[0;32m----> 1\u001b[0m \u001b[38;5;28;01mimport\u001b[39;00m \u001b[38;5;21;01mcodecademylib3\u001b[39;00m\n\u001b[1;32m      2\u001b[0m \u001b[38;5;28;01mfrom\u001b[39;00m \u001b[38;5;21;01msklearn\u001b[39;00m \u001b[38;5;28;01mimport\u001b[39;00m preprocessing\n\u001b[1;32m      3\u001b[0m \u001b[38;5;28;01mimport\u001b[39;00m \u001b[38;5;21;01mmatplotlib\u001b[39;00m\u001b[38;5;21;01m.\u001b[39;00m\u001b[38;5;21;01mpyplot\u001b[39;00m \u001b[38;5;28;01mas\u001b[39;00m \u001b[38;5;21;01mplt\u001b[39;00m\n",
      "\u001b[0;31mModuleNotFoundError\u001b[0m: No module named 'codecademylib3'"
     ]
    }
   ],
   "source": [
    "import codecademylib3\n",
    "from sklearn import preprocessing\n",
    "import matplotlib.pyplot as plt\n",
    "import pandas as pd\n",
    "import seaborn as sns\n",
    "import numpy as np\n",
    "\n",
    "\n",
    "#import financial data with CSV file \n",
    "financial_data = pd.read_csv('financial_data.csv')\n",
    "\n",
    "#print(financial_data(head(10))"
   ]
  },
  {
   "cell_type": "markdown",
   "id": "24c784d5",
   "metadata": {},
   "source": [
    "## Analyzing Revenue and Expenses\n"
   ]
  },
  {
   "cell_type": "markdown",
   "id": "7ded1698",
   "metadata": {},
   "source": [
    "Revenue seems to be quickly decreasing while expenses are increasing. If the current trend continues, expenses will soon surpass revenues, putting the company at risk."
   ]
  },
  {
   "cell_type": "code",
   "execution_count": 4,
   "id": "bc4a24c0",
   "metadata": {
    "scrolled": true
   },
   "outputs": [
    {
     "ename": "NameError",
     "evalue": "name 'pd' is not defined",
     "output_type": "error",
     "traceback": [
      "\u001b[0;31m---------------------------------------------------------------------------\u001b[0m",
      "\u001b[0;31mNameError\u001b[0m                                 Traceback (most recent call last)",
      "Input \u001b[0;32mIn [4]\u001b[0m, in \u001b[0;36m<cell line: 1>\u001b[0;34m()\u001b[0m\n\u001b[0;32m----> 1\u001b[0m financial_data \u001b[38;5;241m=\u001b[39m \u001b[43mpd\u001b[49m\u001b[38;5;241m.\u001b[39mread_csv(\u001b[38;5;124m'\u001b[39m\u001b[38;5;124mfinancial_data.csv\u001b[39m\u001b[38;5;124m'\u001b[39m)\n\u001b[1;32m      2\u001b[0m \u001b[38;5;28mprint\u001b[39m(financial_data(head(\u001b[38;5;241m10\u001b[39m)))\n",
      "\u001b[0;31mNameError\u001b[0m: name 'pd' is not defined"
     ]
    }
   ],
   "source": [
    "# store each column in three separate variable \n",
    "month = financial_data['Month']\n",
    "revenue = financial_data['Revenue']\n",
    "expenses = financial_data['Expenses']\n",
    "\n",
    "# create two plots of revenue and expanses over the past 6 months\n",
    "plt.plot(month, revenue)\n",
    "plt.clf\n",
    "plt.plot(month, expenses)\n",
    "\n",
    "plt.xlabel('Month')\n",
    "plt.ylabel('Amount ($)')\n",
    "plt.title('Revenue vs Expenses')\n",
    "plt.legend()\n",
    "\n",
    "plt.show()"
   ]
  },
  {
   "cell_type": "markdown",
   "id": "e0f7d1fb",
   "metadata": {},
   "source": [
    "## Expenses Overview"
   ]
  },
  {
   "cell_type": "markdown",
   "id": "a69f612f",
   "metadata": {},
   "source": [
    "It seems that Salaries, Advertising, and Office Rent make up most of the expenses, while the rest of the categories make up a small percentage."
   ]
  },
  {
   "cell_type": "code",
   "execution_count": 8,
   "id": "c1860145",
   "metadata": {},
   "outputs": [
    {
     "ename": "NameError",
     "evalue": "name 'pd' is not defined",
     "output_type": "error",
     "traceback": [
      "\u001b[0;31m---------------------------------------------------------------------------\u001b[0m",
      "\u001b[0;31mNameError\u001b[0m                                 Traceback (most recent call last)",
      "Input \u001b[0;32mIn [8]\u001b[0m, in \u001b[0;36m<cell line: 2>\u001b[0;34m()\u001b[0m\n\u001b[1;32m      1\u001b[0m \u001b[38;5;66;03m#read expenses data from csv file\u001b[39;00m\n\u001b[0;32m----> 2\u001b[0m expenses_overview \u001b[38;5;241m=\u001b[39m \u001b[43mpd\u001b[49m\u001b[38;5;241m.\u001b[39mread_csv(\u001b[38;5;124m'\u001b[39m\u001b[38;5;124mexpenses.csv\u001b[39m\u001b[38;5;124m'\u001b[39m)\n\u001b[1;32m      3\u001b[0m \u001b[38;5;66;03m#print(expenses_overview.head(7))\u001b[39;00m\n\u001b[1;32m      4\u001b[0m \n\u001b[1;32m      5\u001b[0m \u001b[38;5;66;03m#expense_categories = expenses_overview['Expense']\u001b[39;00m\n\u001b[1;32m      6\u001b[0m \u001b[38;5;66;03m#proportions = expenses_overview['Proportion']\u001b[39;00m\n\u001b[1;32m      8\u001b[0m expense_categories \u001b[38;5;241m=\u001b[39m [\u001b[38;5;124m'\u001b[39m\u001b[38;5;124mSalaries\u001b[39m\u001b[38;5;124m'\u001b[39m, \u001b[38;5;124m'\u001b[39m\u001b[38;5;124mAdvertising\u001b[39m\u001b[38;5;124m'\u001b[39m, \u001b[38;5;124m'\u001b[39m\u001b[38;5;124mOffice Rent\u001b[39m\u001b[38;5;124m'\u001b[39m, \u001b[38;5;124m'\u001b[39m\u001b[38;5;124mOther\u001b[39m\u001b[38;5;124m'\u001b[39m]\n",
      "\u001b[0;31mNameError\u001b[0m: name 'pd' is not defined"
     ]
    }
   ],
   "source": [
    "#read expenses data from csv file\n",
    "expenses_overview = pd.read_csv('expenses.csv')\n",
    "#print(expenses_overview.head(7))\n",
    "\n",
    "#expense_categories = expenses_overview['Expense']\n",
    "#proportions = expenses_overview['Proportion']\n",
    "\n",
    "expense_categories = ['Salaries', 'Advertising', 'Office Rent', 'Other']\n",
    "proportions = [0.62, 0.15, 0.15, 0.08] \n",
    "\n",
    "plt.clf()\n",
    "plt.pie(proportions, labels = expense_categories)\n",
    "plt.title('Expense Categories')\n",
    "plt.axis('Equal')\n",
    "plt.tight_layout()\n",
    "plt.show()"
   ]
  },
  {
   "cell_type": "markdown",
   "id": "d53bd151",
   "metadata": {},
   "source": [
    "## Employee Productivity"
   ]
  },
  {
   "cell_type": "code",
   "execution_count": 10,
   "id": "027af359",
   "metadata": {},
   "outputs": [
    {
     "ename": "NameError",
     "evalue": "name 'pd' is not defined",
     "output_type": "error",
     "traceback": [
      "\u001b[0;31m---------------------------------------------------------------------------\u001b[0m",
      "\u001b[0;31mNameError\u001b[0m                                 Traceback (most recent call last)",
      "Input \u001b[0;32mIn [10]\u001b[0m, in \u001b[0;36m<cell line: 2>\u001b[0;34m()\u001b[0m\n\u001b[1;32m      1\u001b[0m \u001b[38;5;66;03m#load employees data from csv file\u001b[39;00m\n\u001b[0;32m----> 2\u001b[0m employees \u001b[38;5;241m=\u001b[39m \u001b[43mpd\u001b[49m\u001b[38;5;241m.\u001b[39mread_csv(\u001b[38;5;124m'\u001b[39m\u001b[38;5;124memployees.csv\u001b[39m\u001b[38;5;124m'\u001b[39m)\n\u001b[1;32m      3\u001b[0m \u001b[38;5;66;03m#print(employees.head())\u001b[39;00m\n\u001b[1;32m      4\u001b[0m \n\u001b[1;32m      5\u001b[0m \u001b[38;5;66;03m#sort employess data by productivity in ascedning order\u001b[39;00m\n\u001b[1;32m      6\u001b[0m sorted_productivity \u001b[38;5;241m=\u001b[39m employees\u001b[38;5;241m.\u001b[39msort_values(by\u001b[38;5;241m=\u001b[39m[\u001b[38;5;124m'\u001b[39m\u001b[38;5;124mProductivity\u001b[39m\u001b[38;5;124m'\u001b[39m])\n",
      "\u001b[0;31mNameError\u001b[0m: name 'pd' is not defined"
     ]
    }
   ],
   "source": [
    "#read employees data from csv file\n",
    "employees = pd.read_csv('employees.csv')\n",
    "#print(employees.head())\n",
    "\n",
    "#sort employess data by productivity in ascedning order\n",
    "sorted_productivity = employees.sort_values(by=['Productivity'])\n",
    "#print(sorted_productivity)\n",
    "\n",
    "employees_cut = sorted_productivity.head(100)"
   ]
  },
  {
   "cell_type": "markdown",
   "id": "9337d6b2",
   "metadata": {},
   "source": [
    "## Employee Commute Time "
   ]
  },
  {
   "cell_type": "code",
   "execution_count": null,
   "id": "f1f94e7e",
   "metadata": {},
   "outputs": [],
   "source": [
    "commute_times = employees['Commute Time']\n",
    "commute_times_log = np.log(commute_times)\n",
    "#print(commute_times.describe())\n",
    "\n",
    "\n",
    "plt.clf()\n",
    "plt.hist(commute_times_log)\n",
    "plt.title(\"Employee Commute Times\")\n",
    "plt.xlabel(\"Commute Time\")\n",
    "plt.ylabel(\"Frequency\")\n",
    "plt.show()"
   ]
  }
 ],
 "metadata": {
  "kernelspec": {
   "display_name": "Python 3 (ipykernel)",
   "language": "python",
   "name": "python3"
  },
  "language_info": {
   "codemirror_mode": {
    "name": "ipython",
    "version": 3
   },
   "file_extension": ".py",
   "mimetype": "text/x-python",
   "name": "python",
   "nbconvert_exporter": "python",
   "pygments_lexer": "ipython3",
   "version": "3.10.5"
  }
 },
 "nbformat": 4,
 "nbformat_minor": 5
}
